{
  "nbformat": 4,
  "nbformat_minor": 0,
  "metadata": {
    "colab": {
      "provenance": []
    },
    "kernelspec": {
      "name": "python3",
      "display_name": "Python 3"
    },
    "language_info": {
      "name": "python"
    }
  },
  "cells": [
    {
      "cell_type": "code",
      "source": [
        "import numpy as np\n",
        "import pandas as pd"
      ],
      "metadata": {
        "id": "TVXwEnAeY0aT"
      },
      "execution_count": 146,
      "outputs": []
    },
    {
      "cell_type": "markdown",
      "source": [
        "# On a custom dataset first"
      ],
      "metadata": {
        "id": "tXad-UF5XIIP"
      }
    },
    {
      "cell_type": "markdown",
      "source": [
        "## Creating a pandas dataframe for a small dataset"
      ],
      "metadata": {
        "id": "8fFo4nkVXS_s"
      }
    },
    {
      "cell_type": "code",
      "execution_count": 147,
      "metadata": {
        "colab": {
          "base_uri": "https://localhost:8080/"
        },
        "id": "1zd1iLEJWb4u",
        "outputId": "477b1ea6-21f2-4a8b-df49-4b22d0d6d22e"
      },
      "outputs": [
        {
          "output_type": "stream",
          "name": "stdout",
          "text": [
            "   EmployeeID  YearsExperience   Salary PerformanceRating\n",
            "0           1              2.0  50000.0         Excellent\n",
            "1           2              4.0  60000.0              Good\n",
            "2           3              NaN  45000.0              Poor\n",
            "3           4              3.0      NaN              Good\n",
            "4           5              5.0  70000.0         Excellent\n"
          ]
        }
      ],
      "source": [
        "data = {\n",
        "    'EmployeeID': [1, 2, 3, 4, 5],\n",
        "    'YearsExperience': [2, 4, np.nan, 3, 5],\n",
        "    'Salary': [50000, 60000, 45000, np.nan, 70000],\n",
        "    'PerformanceRating': ['Excellent', 'Good', 'Poor', 'Good', 'Excellent']\n",
        "}\n",
        "\n",
        "df = pd.DataFrame(data)\n",
        "print(df)"
      ]
    },
    {
      "cell_type": "markdown",
      "source": [
        "## Data Cleaning"
      ],
      "metadata": {
        "id": "V201Rk_0XWWm"
      }
    },
    {
      "cell_type": "code",
      "source": [
        "df.dropna(inplace=True)\n",
        "print(df)"
      ],
      "metadata": {
        "colab": {
          "base_uri": "https://localhost:8080/"
        },
        "id": "hOWI-UjVXWk5",
        "outputId": "b16f9db8-123e-4123-bff7-59e3214b77ee"
      },
      "execution_count": 148,
      "outputs": [
        {
          "output_type": "stream",
          "name": "stdout",
          "text": [
            "   EmployeeID  YearsExperience   Salary PerformanceRating\n",
            "0           1              2.0  50000.0         Excellent\n",
            "1           2              4.0  60000.0              Good\n",
            "4           5              5.0  70000.0         Excellent\n"
          ]
        }
      ]
    },
    {
      "cell_type": "markdown",
      "source": [
        "## Transforming the data"
      ],
      "metadata": {
        "id": "eu5xrt_aX1pP"
      }
    },
    {
      "cell_type": "code",
      "source": [
        "df['YearsExperience'] = df['YearsExperience'] ** 2\n",
        "print(df)"
      ],
      "metadata": {
        "colab": {
          "base_uri": "https://localhost:8080/"
        },
        "id": "DiGA0SPUX174",
        "outputId": "4a88d23e-420f-4153-a893-68aefb96ff60"
      },
      "execution_count": 149,
      "outputs": [
        {
          "output_type": "stream",
          "name": "stdout",
          "text": [
            "   EmployeeID  YearsExperience   Salary PerformanceRating\n",
            "0           1              4.0  50000.0         Excellent\n",
            "1           2             16.0  60000.0              Good\n",
            "4           5             25.0  70000.0         Excellent\n"
          ]
        }
      ]
    },
    {
      "cell_type": "markdown",
      "source": [
        "## Reducing the data"
      ],
      "metadata": {
        "id": "RmYtgRDCYBCh"
      }
    },
    {
      "cell_type": "code",
      "source": [
        "df.drop('EmployeeID', axis=1, inplace=True)\n",
        "print(df)"
      ],
      "metadata": {
        "colab": {
          "base_uri": "https://localhost:8080/"
        },
        "id": "jZr2H6SaYDbM",
        "outputId": "342ba01b-121d-4e58-8798-45f2c85b1b75"
      },
      "execution_count": 150,
      "outputs": [
        {
          "output_type": "stream",
          "name": "stdout",
          "text": [
            "   YearsExperience   Salary PerformanceRating\n",
            "0              4.0  50000.0         Excellent\n",
            "1             16.0  60000.0              Good\n",
            "4             25.0  70000.0         Excellent\n"
          ]
        }
      ]
    },
    {
      "cell_type": "markdown",
      "source": [
        "## Assessing data quality"
      ],
      "metadata": {
        "id": "dccmKPiYYPIM"
      }
    },
    {
      "cell_type": "code",
      "source": [
        "print(df.info())"
      ],
      "metadata": {
        "colab": {
          "base_uri": "https://localhost:8080/"
        },
        "id": "n-DN0JHAYPWu",
        "outputId": "51013ef7-e979-47ee-fc1b-a6d28f08403b"
      },
      "execution_count": 151,
      "outputs": [
        {
          "output_type": "stream",
          "name": "stdout",
          "text": [
            "<class 'pandas.core.frame.DataFrame'>\n",
            "Int64Index: 3 entries, 0 to 4\n",
            "Data columns (total 3 columns):\n",
            " #   Column             Non-Null Count  Dtype  \n",
            "---  ------             --------------  -----  \n",
            " 0   YearsExperience    3 non-null      float64\n",
            " 1   Salary             3 non-null      float64\n",
            " 2   PerformanceRating  3 non-null      object \n",
            "dtypes: float64(2), object(1)\n",
            "memory usage: 96.0+ bytes\n",
            "None\n"
          ]
        }
      ]
    },
    {
      "cell_type": "markdown",
      "source": [
        "## Encoding categorical data"
      ],
      "metadata": {
        "id": "V6A6nVVFYWYn"
      }
    },
    {
      "cell_type": "code",
      "source": [
        "df['PerformanceRating'] = df['PerformanceRating'].map({'Poor': 0, 'Good': 1, 'Excellent': 2})\n",
        "print(df)"
      ],
      "metadata": {
        "colab": {
          "base_uri": "https://localhost:8080/"
        },
        "id": "xPyCu3SHYWzq",
        "outputId": "c4277a90-da5d-443e-9f62-fee5be5d9d17"
      },
      "execution_count": 152,
      "outputs": [
        {
          "output_type": "stream",
          "name": "stdout",
          "text": [
            "   YearsExperience   Salary  PerformanceRating\n",
            "0              4.0  50000.0                  2\n",
            "1             16.0  60000.0                  1\n",
            "4             25.0  70000.0                  2\n"
          ]
        }
      ]
    },
    {
      "cell_type": "markdown",
      "source": [
        "## Splitting the dataset"
      ],
      "metadata": {
        "id": "ZkKj9VsbYcoL"
      }
    },
    {
      "cell_type": "code",
      "source": [
        "from sklearn.model_selection import train_test_split\n",
        "\n",
        "X = df[['YearsExperience', 'Salary']]\n",
        "y = df['PerformanceRating']\n",
        "\n",
        "X_train, X_test, y_train, y_test = train_test_split(X, y, test_size=0.2, random_state=1)\n",
        "print(X_train)\n",
        "print()\n",
        "print(X_test)"
      ],
      "metadata": {
        "colab": {
          "base_uri": "https://localhost:8080/"
        },
        "id": "Jjd1gZkkYc31",
        "outputId": "6d323ed8-3ef4-4be3-d1fa-178351d081f9"
      },
      "execution_count": 153,
      "outputs": [
        {
          "output_type": "stream",
          "name": "stdout",
          "text": [
            "   YearsExperience   Salary\n",
            "4             25.0  70000.0\n",
            "1             16.0  60000.0\n",
            "\n",
            "   YearsExperience   Salary\n",
            "0              4.0  50000.0\n"
          ]
        }
      ]
    },
    {
      "cell_type": "markdown",
      "source": [
        "## Scaling the features"
      ],
      "metadata": {
        "id": "F-GzEeEdYpSJ"
      }
    },
    {
      "cell_type": "code",
      "source": [
        "from sklearn.preprocessing import StandardScaler\n",
        "\n",
        "scaler = StandardScaler()\n",
        "X_train_scaled = scaler.fit_transform(X_train)\n",
        "X_test_scaled = scaler.transform(X_test)\n",
        "\n",
        "print(X_train_scaled)\n",
        "print(X_test_scaled)"
      ],
      "metadata": {
        "colab": {
          "base_uri": "https://localhost:8080/"
        },
        "id": "ZrPP_bPdYpgS",
        "outputId": "010138a2-48c2-4f60-b005-16a11d7de3c8"
      },
      "execution_count": 154,
      "outputs": [
        {
          "output_type": "stream",
          "name": "stdout",
          "text": [
            "[[ 1.  1.]\n",
            " [-1. -1.]]\n",
            "[[-3.66666667 -3.        ]]\n"
          ]
        }
      ]
    },
    {
      "cell_type": "markdown",
      "source": [
        "# Applying on titanic dataset"
      ],
      "metadata": {
        "id": "iIVeXdK_aEOk"
      }
    },
    {
      "cell_type": "markdown",
      "source": [
        "## Step 1: Acquiring the dataset"
      ],
      "metadata": {
        "id": "PBgGEzh_aExY"
      }
    },
    {
      "cell_type": "code",
      "source": [
        "titanic_df = pd.read_csv('https://web.stanford.edu/class/archive/cs/cs109/cs109.1166/stuff/titanic.csv')\n",
        "print(titanic_df.head(10))\n",
        "print(\"------------------------------------------------------------------------------\")\n",
        "print(titanic_df.dtypes)\n",
        "print(\"------------------------------------------------------------------------------\")\n",
        "print(titanic_df.describe(include=\"all\"))"
      ],
      "metadata": {
        "colab": {
          "base_uri": "https://localhost:8080/"
        },
        "id": "0FihsF-paLJ1",
        "outputId": "e1971854-4dcc-440b-c729-1aaef58d4ce5"
      },
      "execution_count": 155,
      "outputs": [
        {
          "output_type": "stream",
          "name": "stdout",
          "text": [
            "   Survived  Pclass                                               Name  \\\n",
            "0         0       3                             Mr. Owen Harris Braund   \n",
            "1         1       1  Mrs. John Bradley (Florence Briggs Thayer) Cum...   \n",
            "2         1       3                              Miss. Laina Heikkinen   \n",
            "3         1       1        Mrs. Jacques Heath (Lily May Peel) Futrelle   \n",
            "4         0       3                            Mr. William Henry Allen   \n",
            "5         0       3                                    Mr. James Moran   \n",
            "6         0       1                             Mr. Timothy J McCarthy   \n",
            "7         0       3                      Master. Gosta Leonard Palsson   \n",
            "8         1       3   Mrs. Oscar W (Elisabeth Vilhelmina Berg) Johnson   \n",
            "9         1       2                 Mrs. Nicholas (Adele Achem) Nasser   \n",
            "\n",
            "      Sex   Age  Siblings/Spouses Aboard  Parents/Children Aboard     Fare  \n",
            "0    male  22.0                        1                        0   7.2500  \n",
            "1  female  38.0                        1                        0  71.2833  \n",
            "2  female  26.0                        0                        0   7.9250  \n",
            "3  female  35.0                        1                        0  53.1000  \n",
            "4    male  35.0                        0                        0   8.0500  \n",
            "5    male  27.0                        0                        0   8.4583  \n",
            "6    male  54.0                        0                        0  51.8625  \n",
            "7    male   2.0                        3                        1  21.0750  \n",
            "8  female  27.0                        0                        2  11.1333  \n",
            "9  female  14.0                        1                        0  30.0708  \n",
            "------------------------------------------------------------------------------\n",
            "Survived                     int64\n",
            "Pclass                       int64\n",
            "Name                        object\n",
            "Sex                         object\n",
            "Age                        float64\n",
            "Siblings/Spouses Aboard      int64\n",
            "Parents/Children Aboard      int64\n",
            "Fare                       float64\n",
            "dtype: object\n",
            "------------------------------------------------------------------------------\n",
            "          Survived      Pclass                    Name   Sex         Age  \\\n",
            "count   887.000000  887.000000                     887   887  887.000000   \n",
            "unique         NaN         NaN                     887     2         NaN   \n",
            "top            NaN         NaN  Mr. Owen Harris Braund  male         NaN   \n",
            "freq           NaN         NaN                       1   573         NaN   \n",
            "mean      0.385569    2.305524                     NaN   NaN   29.471443   \n",
            "std       0.487004    0.836662                     NaN   NaN   14.121908   \n",
            "min       0.000000    1.000000                     NaN   NaN    0.420000   \n",
            "25%       0.000000    2.000000                     NaN   NaN   20.250000   \n",
            "50%       0.000000    3.000000                     NaN   NaN   28.000000   \n",
            "75%       1.000000    3.000000                     NaN   NaN   38.000000   \n",
            "max       1.000000    3.000000                     NaN   NaN   80.000000   \n",
            "\n",
            "        Siblings/Spouses Aboard  Parents/Children Aboard       Fare  \n",
            "count                887.000000               887.000000  887.00000  \n",
            "unique                      NaN                      NaN        NaN  \n",
            "top                         NaN                      NaN        NaN  \n",
            "freq                        NaN                      NaN        NaN  \n",
            "mean                   0.525366                 0.383315   32.30542  \n",
            "std                    1.104669                 0.807466   49.78204  \n",
            "min                    0.000000                 0.000000    0.00000  \n",
            "25%                    0.000000                 0.000000    7.92500  \n",
            "50%                    0.000000                 0.000000   14.45420  \n",
            "75%                    1.000000                 0.000000   31.13750  \n",
            "max                    8.000000                 6.000000  512.32920  \n"
          ]
        }
      ]
    },
    {
      "cell_type": "markdown",
      "source": [
        "## Step 2: Cleaning the data"
      ],
      "metadata": {
        "id": "jBJ6nPhJaOb3"
      }
    },
    {
      "cell_type": "markdown",
      "source": [
        "### Generating and handling missing values"
      ],
      "metadata": {
        "id": "XQ8BFFhYtJjZ"
      }
    },
    {
      "cell_type": "code",
      "source": [
        "import pandas as pd\n",
        "import numpy as np\n",
        "\n",
        "np.random.seed(42)\n",
        "\n",
        "data = {\n",
        "    'Survived': np.random.choice([0, 1], size=200),\n",
        "    'Pclass': np.random.choice([1, 2, 3], size=200),\n",
        "    'Name': [f'Person_{i}' for i in range(1, 201)],\n",
        "    'Sex': np.random.choice(['male', 'female'], size=200),\n",
        "    'Age': np.random.choice([np.nan, *np.arange(10, 71)], size=200),\n",
        "    'Siblings/Spouses Aboard': np.random.randint(0, 4, size=200),\n",
        "    'Parents/Children Aboard': np.random.randint(0, 3, size=200),\n",
        "    'Fare': np.random.choice([np.nan, *np.arange(10, 101, 10)], size=200)\n",
        "}\n",
        "\n",
        "df = pd.DataFrame(data)\n",
        "\n",
        "for column in ['Age', 'Fare']:\n",
        "    df.loc[df.sample(frac=0.2).index, column] = np.nan\n",
        "\n",
        "print(df)\n",
        "\n",
        "print(\"---------------------------------------\")\n",
        "\n",
        "from sklearn.impute import SimpleImputer\n",
        "\n",
        "columns_with_missing = ['Age', 'Fare']\n",
        "\n",
        "imputer = SimpleImputer(strategy='mean')  # You can choose 'median', 'most_frequent', or a constant value\n",
        "\n",
        "df[columns_with_missing] = imputer.fit_transform(df[columns_with_missing])\n",
        "\n",
        "\n",
        "titanic_df = pd.concat([titanic_df, df], ignore_index=True)\n",
        "# titanic_df.drop('FamilySize',axis=1,inplace=True)\n",
        "print(titanic_df.tail(10))"
      ],
      "metadata": {
        "colab": {
          "base_uri": "https://localhost:8080/"
        },
        "id": "3a9DlAkEtJ51",
        "outputId": "d9cf4cb8-e339-4b57-9eda-b599027e30dc"
      },
      "execution_count": 156,
      "outputs": [
        {
          "output_type": "stream",
          "name": "stdout",
          "text": [
            "     Survived  Pclass        Name     Sex   Age  Siblings/Spouses Aboard  \\\n",
            "0           0       3    Person_1    male  13.0                        1   \n",
            "1           1       3    Person_2  female  44.0                        3   \n",
            "2           0       1    Person_3    male  42.0                        2   \n",
            "3           0       1    Person_4    male   NaN                        2   \n",
            "4           0       2    Person_5    male  39.0                        0   \n",
            "..        ...     ...         ...     ...   ...                      ...   \n",
            "195         1       2  Person_196    male  15.0                        2   \n",
            "196         1       3  Person_197    male  33.0                        3   \n",
            "197         1       1  Person_198  female  53.0                        2   \n",
            "198         0       1  Person_199  female  12.0                        1   \n",
            "199         0       1  Person_200  female  44.0                        1   \n",
            "\n",
            "     Parents/Children Aboard  Fare  \n",
            "0                          1  20.0  \n",
            "1                          1   NaN  \n",
            "2                          1  40.0  \n",
            "3                          2  30.0  \n",
            "4                          2  70.0  \n",
            "..                       ...   ...  \n",
            "195                        2   NaN  \n",
            "196                        2  30.0  \n",
            "197                        0  50.0  \n",
            "198                        2  60.0  \n",
            "199                        2  80.0  \n",
            "\n",
            "[200 rows x 8 columns]\n",
            "---------------------------------------\n",
            "      Survived  Pclass        Name     Sex        Age  \\\n",
            "1077         0       1  Person_191    male  53.000000   \n",
            "1078         0       2  Person_192  female  39.742138   \n",
            "1079         0       1  Person_193    male  30.000000   \n",
            "1080         0       2  Person_194  female  39.742138   \n",
            "1081         0       1  Person_195  female  25.000000   \n",
            "1082         1       2  Person_196    male  15.000000   \n",
            "1083         1       3  Person_197    male  33.000000   \n",
            "1084         1       1  Person_198  female  53.000000   \n",
            "1085         0       1  Person_199  female  12.000000   \n",
            "1086         0       1  Person_200  female  44.000000   \n",
            "\n",
            "      Siblings/Spouses Aboard  Parents/Children Aboard        Fare  \n",
            "1077                        0                        1  100.000000  \n",
            "1078                        3                        2   60.000000  \n",
            "1079                        3                        1   54.551724  \n",
            "1080                        1                        1   40.000000  \n",
            "1081                        3                        1   40.000000  \n",
            "1082                        2                        2   54.551724  \n",
            "1083                        3                        2   30.000000  \n",
            "1084                        2                        0   50.000000  \n",
            "1085                        1                        2   60.000000  \n",
            "1086                        1                        2   80.000000  \n"
          ]
        }
      ]
    },
    {
      "cell_type": "code",
      "source": [
        "titanic_df.dropna(subset=['Age'], inplace=True)\n",
        "print(titanic_df)"
      ],
      "metadata": {
        "colab": {
          "base_uri": "https://localhost:8080/"
        },
        "id": "PpbToYbsaOwa",
        "outputId": "675ad76b-af97-43e8-b15b-b873207a9281"
      },
      "execution_count": 157,
      "outputs": [
        {
          "output_type": "stream",
          "name": "stdout",
          "text": [
            "      Survived  Pclass                                               Name  \\\n",
            "0            0       3                             Mr. Owen Harris Braund   \n",
            "1            1       1  Mrs. John Bradley (Florence Briggs Thayer) Cum...   \n",
            "2            1       3                              Miss. Laina Heikkinen   \n",
            "3            1       1        Mrs. Jacques Heath (Lily May Peel) Futrelle   \n",
            "4            0       3                            Mr. William Henry Allen   \n",
            "...        ...     ...                                                ...   \n",
            "1082         1       2                                         Person_196   \n",
            "1083         1       3                                         Person_197   \n",
            "1084         1       1                                         Person_198   \n",
            "1085         0       1                                         Person_199   \n",
            "1086         0       1                                         Person_200   \n",
            "\n",
            "         Sex   Age  Siblings/Spouses Aboard  Parents/Children Aboard  \\\n",
            "0       male  22.0                        1                        0   \n",
            "1     female  38.0                        1                        0   \n",
            "2     female  26.0                        0                        0   \n",
            "3     female  35.0                        1                        0   \n",
            "4       male  35.0                        0                        0   \n",
            "...      ...   ...                      ...                      ...   \n",
            "1082    male  15.0                        2                        2   \n",
            "1083    male  33.0                        3                        2   \n",
            "1084  female  53.0                        2                        0   \n",
            "1085  female  12.0                        1                        2   \n",
            "1086  female  44.0                        1                        2   \n",
            "\n",
            "           Fare  \n",
            "0      7.250000  \n",
            "1     71.283300  \n",
            "2      7.925000  \n",
            "3     53.100000  \n",
            "4      8.050000  \n",
            "...         ...  \n",
            "1082  54.551724  \n",
            "1083  30.000000  \n",
            "1084  50.000000  \n",
            "1085  60.000000  \n",
            "1086  80.000000  \n",
            "\n",
            "[1087 rows x 8 columns]\n"
          ]
        }
      ]
    },
    {
      "cell_type": "markdown",
      "source": [
        "## Step 3: Transforming the data"
      ],
      "metadata": {
        "id": "uIfWUyr8aX1U"
      }
    },
    {
      "cell_type": "code",
      "source": [
        "titanic_df['FamilySize'] = titanic_df['Siblings/Spouses Aboard'] + titanic_df['Parents/Children Aboard']\n",
        "print(titanic_df)"
      ],
      "metadata": {
        "colab": {
          "base_uri": "https://localhost:8080/"
        },
        "id": "-KNCnb1haYFX",
        "outputId": "0a13dbcd-5205-46f2-fb16-6b19c6315e9e"
      },
      "execution_count": 158,
      "outputs": [
        {
          "output_type": "stream",
          "name": "stdout",
          "text": [
            "      Survived  Pclass                                               Name  \\\n",
            "0            0       3                             Mr. Owen Harris Braund   \n",
            "1            1       1  Mrs. John Bradley (Florence Briggs Thayer) Cum...   \n",
            "2            1       3                              Miss. Laina Heikkinen   \n",
            "3            1       1        Mrs. Jacques Heath (Lily May Peel) Futrelle   \n",
            "4            0       3                            Mr. William Henry Allen   \n",
            "...        ...     ...                                                ...   \n",
            "1082         1       2                                         Person_196   \n",
            "1083         1       3                                         Person_197   \n",
            "1084         1       1                                         Person_198   \n",
            "1085         0       1                                         Person_199   \n",
            "1086         0       1                                         Person_200   \n",
            "\n",
            "         Sex   Age  Siblings/Spouses Aboard  Parents/Children Aboard  \\\n",
            "0       male  22.0                        1                        0   \n",
            "1     female  38.0                        1                        0   \n",
            "2     female  26.0                        0                        0   \n",
            "3     female  35.0                        1                        0   \n",
            "4       male  35.0                        0                        0   \n",
            "...      ...   ...                      ...                      ...   \n",
            "1082    male  15.0                        2                        2   \n",
            "1083    male  33.0                        3                        2   \n",
            "1084  female  53.0                        2                        0   \n",
            "1085  female  12.0                        1                        2   \n",
            "1086  female  44.0                        1                        2   \n",
            "\n",
            "           Fare  FamilySize  \n",
            "0      7.250000           1  \n",
            "1     71.283300           1  \n",
            "2      7.925000           0  \n",
            "3     53.100000           1  \n",
            "4      8.050000           0  \n",
            "...         ...         ...  \n",
            "1082  54.551724           4  \n",
            "1083  30.000000           5  \n",
            "1084  50.000000           2  \n",
            "1085  60.000000           3  \n",
            "1086  80.000000           3  \n",
            "\n",
            "[1087 rows x 9 columns]\n"
          ]
        }
      ]
    },
    {
      "cell_type": "markdown",
      "source": [
        "## Step 4: Reducing the data"
      ],
      "metadata": {
        "id": "K6BubFzPafCo"
      }
    },
    {
      "cell_type": "code",
      "source": [
        "titanic_df.drop(['Name'], axis=1, inplace=True)\n",
        "print(titanic_df)"
      ],
      "metadata": {
        "colab": {
          "base_uri": "https://localhost:8080/"
        },
        "id": "y2173V9dadyY",
        "outputId": "0c90468b-ae82-4670-e026-63d5fc0f6e87"
      },
      "execution_count": 159,
      "outputs": [
        {
          "output_type": "stream",
          "name": "stdout",
          "text": [
            "      Survived  Pclass     Sex   Age  Siblings/Spouses Aboard  \\\n",
            "0            0       3    male  22.0                        1   \n",
            "1            1       1  female  38.0                        1   \n",
            "2            1       3  female  26.0                        0   \n",
            "3            1       1  female  35.0                        1   \n",
            "4            0       3    male  35.0                        0   \n",
            "...        ...     ...     ...   ...                      ...   \n",
            "1082         1       2    male  15.0                        2   \n",
            "1083         1       3    male  33.0                        3   \n",
            "1084         1       1  female  53.0                        2   \n",
            "1085         0       1  female  12.0                        1   \n",
            "1086         0       1  female  44.0                        1   \n",
            "\n",
            "      Parents/Children Aboard       Fare  FamilySize  \n",
            "0                           0   7.250000           1  \n",
            "1                           0  71.283300           1  \n",
            "2                           0   7.925000           0  \n",
            "3                           0  53.100000           1  \n",
            "4                           0   8.050000           0  \n",
            "...                       ...        ...         ...  \n",
            "1082                        2  54.551724           4  \n",
            "1083                        2  30.000000           5  \n",
            "1084                        0  50.000000           2  \n",
            "1085                        2  60.000000           3  \n",
            "1086                        2  80.000000           3  \n",
            "\n",
            "[1087 rows x 8 columns]\n"
          ]
        }
      ]
    },
    {
      "cell_type": "markdown",
      "source": [
        "## Step 5: Assessing data quality"
      ],
      "metadata": {
        "id": "kUFptFeeanaO"
      }
    },
    {
      "cell_type": "code",
      "source": [
        "print(titanic_df.info())"
      ],
      "metadata": {
        "colab": {
          "base_uri": "https://localhost:8080/"
        },
        "id": "qrF4wR-xanqY",
        "outputId": "b8bdf1f6-c9f0-4edd-f177-490ef44c6f7c"
      },
      "execution_count": 160,
      "outputs": [
        {
          "output_type": "stream",
          "name": "stdout",
          "text": [
            "<class 'pandas.core.frame.DataFrame'>\n",
            "RangeIndex: 1087 entries, 0 to 1086\n",
            "Data columns (total 8 columns):\n",
            " #   Column                   Non-Null Count  Dtype  \n",
            "---  ------                   --------------  -----  \n",
            " 0   Survived                 1087 non-null   int64  \n",
            " 1   Pclass                   1087 non-null   int64  \n",
            " 2   Sex                      1087 non-null   object \n",
            " 3   Age                      1087 non-null   float64\n",
            " 4   Siblings/Spouses Aboard  1087 non-null   int64  \n",
            " 5   Parents/Children Aboard  1087 non-null   int64  \n",
            " 6   Fare                     1087 non-null   float64\n",
            " 7   FamilySize               1087 non-null   int64  \n",
            "dtypes: float64(2), int64(5), object(1)\n",
            "memory usage: 68.1+ KB\n",
            "None\n"
          ]
        }
      ]
    },
    {
      "cell_type": "markdown",
      "source": [
        "## Step 6: Encoding categorical data"
      ],
      "metadata": {
        "id": "85i1E0BNawq6"
      }
    },
    {
      "cell_type": "code",
      "source": [
        "titanic_df['Sex'] = titanic_df['Sex'].map({'male': 0, 'female': 1})\n",
        "print(titanic_df)"
      ],
      "metadata": {
        "colab": {
          "base_uri": "https://localhost:8080/"
        },
        "id": "CrPEuBKiaw6N",
        "outputId": "0a49770b-e55c-4752-9450-46bc80169f54"
      },
      "execution_count": 161,
      "outputs": [
        {
          "output_type": "stream",
          "name": "stdout",
          "text": [
            "      Survived  Pclass  Sex   Age  Siblings/Spouses Aboard  \\\n",
            "0            0       3    0  22.0                        1   \n",
            "1            1       1    1  38.0                        1   \n",
            "2            1       3    1  26.0                        0   \n",
            "3            1       1    1  35.0                        1   \n",
            "4            0       3    0  35.0                        0   \n",
            "...        ...     ...  ...   ...                      ...   \n",
            "1082         1       2    0  15.0                        2   \n",
            "1083         1       3    0  33.0                        3   \n",
            "1084         1       1    1  53.0                        2   \n",
            "1085         0       1    1  12.0                        1   \n",
            "1086         0       1    1  44.0                        1   \n",
            "\n",
            "      Parents/Children Aboard       Fare  FamilySize  \n",
            "0                           0   7.250000           1  \n",
            "1                           0  71.283300           1  \n",
            "2                           0   7.925000           0  \n",
            "3                           0  53.100000           1  \n",
            "4                           0   8.050000           0  \n",
            "...                       ...        ...         ...  \n",
            "1082                        2  54.551724           4  \n",
            "1083                        2  30.000000           5  \n",
            "1084                        0  50.000000           2  \n",
            "1085                        2  60.000000           3  \n",
            "1086                        2  80.000000           3  \n",
            "\n",
            "[1087 rows x 8 columns]\n"
          ]
        }
      ]
    },
    {
      "cell_type": "code",
      "source": [
        "# Step 6: Encoding categorical data with One-Hot Encoding in scikit-learn. Here I am onehotencoding Pclass ONLY for demonstration purposes\n",
        "from sklearn.preprocessing import OneHotEncoder\n",
        "from sklearn.compose import ColumnTransformer\n",
        "\n",
        "column_transformer = ColumnTransformer(\n",
        "    transformers=[\n",
        "        ('onehot', OneHotEncoder(), ['Pclass'])\n",
        "    ],\n",
        "    remainder='passthrough'\n",
        ")\n",
        "\n",
        "X_encoded = column_transformer.fit_transform(titanic_df)\n",
        "\n",
        "X_encoded_df = pd.DataFrame(X_encoded, columns=['Pclass_1', 'Pclass_2', 'Pclass_3', 'Survived', 'Sex', 'Age', 'Siblings/Spouses Aboard', 'Parents/Children Aboard', 'Fare', 'FamilySize'])\n",
        "print(X_encoded_df)"
      ],
      "metadata": {
        "colab": {
          "base_uri": "https://localhost:8080/"
        },
        "id": "PqUCrhyxpTPf",
        "outputId": "e81ffaeb-52a0-47d0-8adc-da54e8f60d1a"
      },
      "execution_count": 162,
      "outputs": [
        {
          "output_type": "stream",
          "name": "stdout",
          "text": [
            "      Pclass_1  Pclass_2  Pclass_3  Survived  Sex   Age  \\\n",
            "0          0.0       0.0       1.0       0.0  0.0  22.0   \n",
            "1          1.0       0.0       0.0       1.0  1.0  38.0   \n",
            "2          0.0       0.0       1.0       1.0  1.0  26.0   \n",
            "3          1.0       0.0       0.0       1.0  1.0  35.0   \n",
            "4          0.0       0.0       1.0       0.0  0.0  35.0   \n",
            "...        ...       ...       ...       ...  ...   ...   \n",
            "1082       0.0       1.0       0.0       1.0  0.0  15.0   \n",
            "1083       0.0       0.0       1.0       1.0  0.0  33.0   \n",
            "1084       1.0       0.0       0.0       1.0  1.0  53.0   \n",
            "1085       1.0       0.0       0.0       0.0  1.0  12.0   \n",
            "1086       1.0       0.0       0.0       0.0  1.0  44.0   \n",
            "\n",
            "      Siblings/Spouses Aboard  Parents/Children Aboard       Fare  FamilySize  \n",
            "0                         1.0                      0.0   7.250000         1.0  \n",
            "1                         1.0                      0.0  71.283300         1.0  \n",
            "2                         0.0                      0.0   7.925000         0.0  \n",
            "3                         1.0                      0.0  53.100000         1.0  \n",
            "4                         0.0                      0.0   8.050000         0.0  \n",
            "...                       ...                      ...        ...         ...  \n",
            "1082                      2.0                      2.0  54.551724         4.0  \n",
            "1083                      3.0                      2.0  30.000000         5.0  \n",
            "1084                      2.0                      0.0  50.000000         2.0  \n",
            "1085                      1.0                      2.0  60.000000         3.0  \n",
            "1086                      1.0                      2.0  80.000000         3.0  \n",
            "\n",
            "[1087 rows x 10 columns]\n"
          ]
        }
      ]
    },
    {
      "cell_type": "markdown",
      "source": [
        "## Step 7: Splitting the dataset"
      ],
      "metadata": {
        "id": "c7yoLOhya1OR"
      }
    },
    {
      "cell_type": "code",
      "source": [
        "X = titanic_df.drop('Survived', axis=1)\n",
        "y = titanic_df['Survived']\n",
        "\n",
        "X_train, X_test, y_train, y_test = train_test_split(X, y, test_size=0.2, random_state=1)\n",
        "print(X_train)\n",
        "print()\n",
        "print(X_test)"
      ],
      "metadata": {
        "colab": {
          "base_uri": "https://localhost:8080/"
        },
        "id": "KUjaxLcka1bz",
        "outputId": "161520aa-d015-4a60-9dab-a131cf2304be"
      },
      "execution_count": 163,
      "outputs": [
        {
          "output_type": "stream",
          "name": "stdout",
          "text": [
            "      Pclass  Sex   Age  Siblings/Spouses Aboard  Parents/Children Aboard  \\\n",
            "433        3    1  21.0                        2                        2   \n",
            "877        3    0  33.0                        0                        0   \n",
            "659        1    0  47.0                        0                        0   \n",
            "2          3    1  26.0                        0                        0   \n",
            "1086       1    1  44.0                        1                        2   \n",
            "...      ...  ...   ...                      ...                      ...   \n",
            "847        3    0  74.0                        0                        0   \n",
            "715        3    0  33.0                        0                        0   \n",
            "905        2    0  63.0                        3                        0   \n",
            "235        2    0  44.0                        1                        0   \n",
            "1061       1    1  54.0                        0                        1   \n",
            "\n",
            "          Fare  FamilySize  \n",
            "433    34.3750           4  \n",
            "877     7.8958           0  \n",
            "659    25.5875           0  \n",
            "2       7.9250           0  \n",
            "1086   80.0000           3  \n",
            "...        ...         ...  \n",
            "847     7.7750           0  \n",
            "715     7.7750           0  \n",
            "905   100.0000           3  \n",
            "235    26.0000           1  \n",
            "1061  100.0000           1  \n",
            "\n",
            "[869 rows x 7 columns]\n",
            "\n",
            "     Pclass  Sex   Age  Siblings/Spouses Aboard  Parents/Children Aboard  \\\n",
            "875       1    1  56.0                        0                        1   \n",
            "80        3    0  29.0                        0                        0   \n",
            "535       3    0  69.0                        0                        0   \n",
            "329       1    0  45.5                        0                        0   \n",
            "244       1    0  44.0                        2                        0   \n",
            "..      ...  ...   ...                      ...                      ...   \n",
            "62        3    0   4.0                        3                        2   \n",
            "274       3    1  45.0                        0                        0   \n",
            "697       1    1  18.0                        1                        0   \n",
            "922       3    1  45.0                        3                        2   \n",
            "801       3    0  31.0                        0                        0   \n",
            "\n",
            "         Fare  FamilySize  \n",
            "875   83.1583           1  \n",
            "80     9.5000           0  \n",
            "535   14.5000           0  \n",
            "329   28.5000           0  \n",
            "244   90.0000           2  \n",
            "..        ...         ...  \n",
            "62    27.9000           5  \n",
            "274    7.7500           0  \n",
            "697  227.5250           1  \n",
            "922   40.0000           5  \n",
            "801    7.7750           0  \n",
            "\n",
            "[218 rows x 7 columns]\n"
          ]
        }
      ]
    },
    {
      "cell_type": "markdown",
      "source": [
        "## Step 8: Scaling the features"
      ],
      "metadata": {
        "id": "vl3TE3sxbE-o"
      }
    },
    {
      "cell_type": "code",
      "source": [
        "from sklearn.preprocessing import StandardScaler\n",
        "\n",
        "scaler = StandardScaler()\n",
        "X_train_scaled = scaler.fit_transform(X_train)\n",
        "X_test_scaled = scaler.transform(X_test)\n",
        "print(X_train_scaled)\n",
        "print()\n",
        "print(X_test_scaled)"
      ],
      "metadata": {
        "colab": {
          "base_uri": "https://localhost:8080/"
        },
        "id": "IkGsAFsGbFNi",
        "outputId": "3760c5df-3dc9-4a31-fb2a-c2d57746c818"
      },
      "execution_count": 164,
      "outputs": [
        {
          "output_type": "stream",
          "name": "stdout",
          "text": [
            "[[ 0.89634447  1.26870391 -0.71233852 ...  1.85868186 -0.03807969\n",
            "   1.81977501]\n",
            " [ 0.89634447 -0.78820597  0.09687279 ... -0.59975731 -0.58757962\n",
            "  -0.71044017]\n",
            " [-1.45689826 -0.78820597  1.04095266 ... -0.59975731 -0.22043908\n",
            "  -0.71044017]\n",
            " ...\n",
            " [-0.2802769  -0.78820597  2.11990108 ... -0.59975731  1.32377916\n",
            "   1.18722122]\n",
            " [-0.2802769  -0.78820597  0.83864983 ... -0.59975731 -0.21187882\n",
            "  -0.07788637]\n",
            " [-1.45689826  1.26870391  1.51299259 ...  0.62946227  1.32377916\n",
            "  -0.07788637]]\n",
            "\n",
            "[[-1.45689826  1.26870391  1.64786114 ...  0.62946227  0.97427793\n",
            "  -0.07788637]\n",
            " [ 0.89634447 -0.78820597 -0.17286431 ... -0.59975731 -0.55428905\n",
            "  -0.71044017]\n",
            " [ 0.89634447 -0.78820597  2.52450673 ... -0.59975731 -0.45052838\n",
            "  -0.71044017]\n",
            " ...\n",
            " [-1.45689826  1.26870391 -0.91464135 ... -0.59975731  3.97019515\n",
            "  -0.07788637]\n",
            " [ 0.89634447  1.26870391  0.90608411 ...  1.85868186  0.07865106\n",
            "   2.45232881]\n",
            " [ 0.89634447 -0.78820597 -0.03799576 ... -0.59975731 -0.59008648\n",
            "  -0.71044017]]\n"
          ]
        }
      ]
    }
  ]
}